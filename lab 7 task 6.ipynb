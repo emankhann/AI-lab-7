{
 "cells": [
  {
   "cell_type": "code",
   "execution_count": null,
   "id": "a26fb904-f683-41e4-b2ba-6e81a3253bb2",
   "metadata": {},
   "outputs": [],
   "source": []
  }
 ],
 "metadata": {
  "kernelspec": {
   "display_name": "",
   "name": ""
  },
  "language_info": {
   "name": ""
  }
 },
 "nbformat": 4,
 "nbformat_minor": 5
}
