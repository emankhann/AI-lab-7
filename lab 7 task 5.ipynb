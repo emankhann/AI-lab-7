{
 "cells": [
  {
   "cell_type": "code",
   "execution_count": 1,
   "id": "25029284-abf8-4e7f-b0f6-dbc751ca6cc7",
   "metadata": {},
   "outputs": [
    {
     "name": "stdout",
     "output_type": "stream",
     "text": [
      "\n",
      "Classification Report:\n",
      "              precision    recall  f1-score   support\n",
      "\n",
      "    not spam       1.00      1.00      1.00         1\n",
      "        spam       1.00      1.00      1.00         2\n",
      "\n",
      "    accuracy                           1.00         3\n",
      "   macro avg       1.00      1.00      1.00         3\n",
      "weighted avg       1.00      1.00      1.00         3\n",
      "\n",
      "\n",
      "Prediction for new email: Win a $1000 gift card now! Click this link to claim your reward.\n",
      "Classified as: spam\n"
     ]
    }
   ],
   "source": [
    "import pandas as pd\n",
    "from sklearn.feature_extraction.text import CountVectorizer\n",
    "from sklearn.model_selection import train_test_split\n",
    "from sklearn.naive_bayes import MultinomialNB\n",
    "from sklearn.metrics import classification_report\n",
    "\n",
    "data = {\n",
    "    \"Email_Text\": [\n",
    "        \"Congratulations! You have won a free iPhone. Click here to claim your prize.\",\n",
    "        \"Hello, I hope you are doing well. Let's meet tomorrow for a discussion.\",\n",
    "        \"Exclusive offer! Buy one get one free. Hurry, limited time only!\",\n",
    "        \"Your account has been compromised. Click here to secure your account.\",\n",
    "        \"Hi, just checking in to see how the project is going. Let me know if you need help.\",\n",
    "        \"Free vacation to Hawaii! Act now to book your free trip today.\",\n",
    "        \"Can you please send me the updated report by this evening?\",\n",
    "    ],\n",
    "    \"Label\": [\"spam\", \"not spam\", \"spam\", \"spam\", \"not spam\", \"spam\", \"not spam\"],\n",
    "}\n",
    "\n",
    "df = pd.DataFrame(data)\n",
    "\n",
    "X = df[\"Email_Text\"]\n",
    "y = df[\"Label\"]\n",
    "\n",
    "vectorizer = CountVectorizer(stop_words=\"english\")\n",
    "X_vectors = vectorizer.fit_transform(X)\n",
    "\n",
    "X_train, X_test, y_train, y_test = train_test_split(X_vectors, y, test_size=0.3, random_state=42)\n",
    "\n",
    "model = MultinomialNB()\n",
    "model.fit(X_train, y_train)\n",
    "\n",
    "y_pred = model.predict(X_test)\n",
    "\n",
    "print(\"\\nClassification Report:\")\n",
    "print(classification_report(y_test, y_pred))\n",
    "\n",
    "new_email = [\"Win a $1000 gift card now! Click this link to claim your reward.\"]\n",
    "new_email_vector = vectorizer.transform(new_email)\n",
    "prediction = model.predict(new_email_vector)\n",
    "print(f\"\\nPrediction for new email: {new_email[0]}\")\n",
    "print(f\"Classified as: {prediction[0]}\")\n"
   ]
  },
  {
   "cell_type": "code",
   "execution_count": null,
   "id": "89f96cc7-927f-4a2c-be64-1ede3a528ed6",
   "metadata": {},
   "outputs": [],
   "source": []
  }
 ],
 "metadata": {
  "kernelspec": {
   "display_name": "Python 3 (ipykernel)",
   "language": "python",
   "name": "python3"
  },
  "language_info": {
   "codemirror_mode": {
    "name": "ipython",
    "version": 3
   },
   "file_extension": ".py",
   "mimetype": "text/x-python",
   "name": "python",
   "nbconvert_exporter": "python",
   "pygments_lexer": "ipython3",
   "version": "3.12.3"
  }
 },
 "nbformat": 4,
 "nbformat_minor": 5
}
