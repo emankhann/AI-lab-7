{
 "cells": [
  {
   "cell_type": "code",
   "execution_count": 3,
   "id": "fcafedeb-150e-4d5c-a338-e0e665eb4cbf",
   "metadata": {},
   "outputs": [
    {
     "name": "stdout",
     "output_type": "stream",
     "text": [
      "\n",
      "Classification Report:\n",
      "              precision    recall  f1-score   support\n",
      "\n",
      "   High Risk       0.50      1.00      0.67         1\n",
      "    Low Risk       1.00      0.50      0.67         2\n",
      "\n",
      "    accuracy                           0.67         3\n",
      "   macro avg       0.75      0.75      0.67         3\n",
      "weighted avg       0.83      0.67      0.67         3\n",
      "\n"
     ]
    }
   ],
   "source": [
    "import pandas as pd\n",
    "from sklearn.model_selection import train_test_split\n",
    "from sklearn.tree import DecisionTreeClassifier\n",
    "from sklearn.metrics import classification_report\n",
    "data = { \n",
    "    \"Credit_Score\": [750, 800, 600, 700, 850, 690, 720, 580, 640, 770], \n",
    "    \"Income\": [70000, 80000, 60000, 90000, 55000, 25000, 40000, 30000, 50000, 85000], \n",
    "    \"Loan_Status\": [\"Low Risk\", \"High Risk\", \"Low Risk\", \"Low Risk\", \"High Risk\", \n",
    "                    \"Low Risk\", \"Low Risk\", \"High Risk\", \"Low Risk\", \"High Risk\"],\n",
    "}\n",
    "df = pd.DataFrame(data)\n",
    "X = df[[\"Credit_Score\", \"Income\"]] \n",
    "y = df[\"Loan_Status\"]\n",
    "X_train, X_test, y_train, y_test = train_test_split(X, y, test_size=0.3, random_state=42)\n",
    "model = DecisionTreeClassifier(random_state=42) \n",
    "model.fit(X_train, y_train)\n",
    "predictions = model.predict(X_test)\n",
    "print(\"\\nClassification Report:\")\n",
    "print(classification_report(y_test, predictions))\n"
   ]
  },
  {
   "cell_type": "code",
   "execution_count": null,
   "id": "f584785a-32c2-47e9-88ac-253430ed819f",
   "metadata": {},
   "outputs": [],
   "source": []
  }
 ],
 "metadata": {
  "kernelspec": {
   "display_name": "Python 3 (ipykernel)",
   "language": "python",
   "name": "python3"
  },
  "language_info": {
   "codemirror_mode": {
    "name": "ipython",
    "version": 3
   },
   "file_extension": ".py",
   "mimetype": "text/x-python",
   "name": "python",
   "nbconvert_exporter": "python",
   "pygments_lexer": "ipython3",
   "version": "3.12.3"
  }
 },
 "nbformat": 4,
 "nbformat_minor": 5
}
