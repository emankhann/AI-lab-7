{
 "cells": [
  {
   "cell_type": "code",
   "execution_count": 1,
   "id": "0bb180db-a549-4f8f-af04-b56913f9e412",
   "metadata": {},
   "outputs": [
    {
     "name": "stdout",
     "output_type": "stream",
     "text": [
      "Original DataFrame:\n",
      "  Student  Math  English  Science\n",
      "0    Eman  85.0     78.0      NaN\n",
      "1    Huda  92.0      NaN     91.0\n",
      "2    Fiza   NaN     82.0     80.0\n",
      "3  Ayesha  88.0     89.0     85.0\n",
      "\n",
      "DataFrame after forward fill:\n",
      "  Student  Math  English  Science\n",
      "0    Eman  85.0     78.0      NaN\n",
      "1    Huda  92.0     78.0     91.0\n",
      "2    Fiza  92.0     82.0     80.0\n",
      "3  Ayesha  88.0     89.0     85.0\n"
     ]
    }
   ],
   "source": [
    "import pandas as pd\n",
    "data = {\n",
    "    \"Student\": [\"Eman\", \"Huda\", \"Fiza\", \"Ayesha\"],\n",
    "    \"Math\": [85, 92, None, 88],\n",
    "    \"English\": [78, None, 82, 89],\n",
    "    \"Science\": [None, 91, 80, 85],\n",
    "}\n",
    "df = pd.DataFrame(data)\n",
    "df_filled = df.ffill()\n",
    "print(\"Original DataFrame:\")\n",
    "print(df)\n",
    "print(\"\\nDataFrame after forward fill:\")\n",
    "print(df_filled)\n"
   ]
  },
  {
   "cell_type": "code",
   "execution_count": null,
   "id": "556d024b-5ae1-4aaa-ac8e-ca8ce163fee4",
   "metadata": {},
   "outputs": [],
   "source": []
  }
 ],
 "metadata": {
  "kernelspec": {
   "display_name": "Python 3 (ipykernel)",
   "language": "python",
   "name": "python3"
  },
  "language_info": {
   "codemirror_mode": {
    "name": "ipython",
    "version": 3
   },
   "file_extension": ".py",
   "mimetype": "text/x-python",
   "name": "python",
   "nbconvert_exporter": "python",
   "pygments_lexer": "ipython3",
   "version": "3.12.3"
  }
 },
 "nbformat": 4,
 "nbformat_minor": 5
}
